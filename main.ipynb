{
 "cells": [
  {
   "cell_type": "code",
   "execution_count": 1,
   "metadata": {},
   "outputs": [],
   "source": [
    "# Import libraries\n",
    "import numpy as np\n",
    "import pandas as pd\n",
    "from sklearn.linear_model import LinearRegression\n",
    "from sklearn.model_selection import train_test_split\n",
    "\n",
    "def generate_new_data(df):\n",
    "    # Load and preprocess data\n",
    "    df = pd.read_csv('source_data/diabetes_012_health_indicators_BRFSS2015_py_cp.csv')\n",
    "    df = df.dropna()\n",
    "    X_train, X_test, y_train, y_test = train_test_split(df[df.columns], df['BMI'], test_size=100)\n",
    "\n",
    "    # Train a linear regression model\n",
    "    model = LinearRegression()\n",
    "    model.fit(X_train, y_train)\n",
    "\n",
    "    # Evaluate the model\n",
    "    score = model.score(X_test, y_test)\n",
    "    print('Model score:', score)\n",
    "\n",
    "    # Synthesize data using the fitted model\n",
    "    y_pred = model.predict(X_test)\n",
    "    df_synth = pd.DataFrame({'Diabetes_012': X_test['Diabetes_012'],'BMI_pred': y_pred})\n",
    "    # Compare the synthesized data to the original data\n",
    "    print('Original data correlation:', df['Diabetes_012'].corr(df['BMI']))\n",
    "    print('Synthesized data correlation:', df_synth['Diabetes_012'].corr(df_synth['BMI_pred']))\n",
    "    return df_synth\n",
    "\n"
   ]
  },
  {
   "cell_type": "code",
   "execution_count": 2,
   "metadata": {},
   "outputs": [
    {
     "name": "stdout",
     "output_type": "stream",
     "text": [
      "Model score: 1.0\n",
      "Original data correlation: 0.22437947375839748\n",
      "Synthesized data correlation: 0.443882578058235\n"
     ]
    },
    {
     "data": {
      "text/plain": [
       "'\\nOriginal data correlation: 0.22437947375839748\\nSynthesized data correlation: 0.250064562325651\\n'"
      ]
     },
     "execution_count": 2,
     "metadata": {},
     "output_type": "execute_result"
    }
   ],
   "source": [
    "import statistics\n",
    "import pandas as pd\n",
    "import os\n",
    "\n",
    "df = pd.read_csv(\"source_data/diabetes_012_health_indicators_BRFSS2015_py_cp.csv\")\n",
    "gen_data = generate_new_data(df)\n",
    "if \"gen_data.csv\" not in os.listdir():\n",
    "    gen_data.to_csv(\"gen_data.csv\")\n",
    "    gen_data = pd.read_csv(\"gen_data.csv\")\n",
    "else:\n",
    "    gen_data = pd.read_csv(\"gen_data.csv\")\n",
    "df = pd.concat([df,],axis=0,ignore_index=True)\n",
    "\n",
    "\"\"\"\n",
    "Original data correlation: 0.22437947375839748\n",
    "Synthesized data correlation: 0.250064562325651\n",
    "\"\"\""
   ]
  },
  {
   "cell_type": "code",
   "execution_count": null,
   "metadata": {},
   "outputs": [
    {
     "name": "stdout",
     "output_type": "stream",
     "text": [
      "Overall Proportion Difference between smallest and largest: 0.08444497004099645\n"
     ]
    }
   ],
   "source": [
    "overall_proportion = pd.DataFrame(df[['Diabetes_012',\"BMI\"]].value_counts(normalize=True))\n",
    "overall_proportion.sort_values(by=\"BMI\").to_csv(\"overall_proportion.csv\")\n",
    "print(f\"Overall Proportion Difference between smallest and largest: {0.0844489120151371-3.94197414064963E-06}\")\n"
   ]
  },
  {
   "cell_type": "code",
   "execution_count": null,
   "metadata": {},
   "outputs": [],
   "source": [
    "from sklearn.model_selection import train_test_split\n",
    "# Desired sample size\n",
    "sample_size = 500\n",
    "sample_size_per_percentile = int(500 / 5)\n",
    "if \"sample_data.csv\" not in os.listdir():\n",
    "\n",
    "    #df['BMI_percentile'] = pd.cut(df['BMI'], bins=3, labels=False)\n",
    "    # Randomly sample from each percentile\n",
    "    #sample = df.groupby('BMI_percentile').apply(lambda x: x.sample(n=sample_size_per_percentile))\n",
    "    sample_columns = [\"Diabetes_012\",\"HighBP\",\"HighChol\",\"BMI\",\"Smoker\",\"Stroke\",\"HeartDiseaseorAttack\",\"PhysActivity\",\"Age\"]\n",
    "    sample, _ = train_test_split(df, train_size=sample_size, stratify=df['Age'], random_state=42)\n",
    "    \n",
    "    sample[sample_columns].to_csv(\"sample_data.csv\")\n",
    "    sample500 = pd.read_csv(\"sample_data.csv\")\n",
    "else:\n",
    "    sample500 = pd.read_csv(\"sample_data.csv\")\n",
    "print(sample500[[\"BMI\",\"Diabetes_012\",\"Age\"]]a.value_counts(normalize=True).sort_values().to_csv(\"Age_percentile_proportion.csv\"))\n",
    "no_diabetes = sample500[sample500[\"Diabetes_012\"] == 0]\n",
    "diabetes = sample500[sample500[\"Diabetes_012\"] == 1]\n",
    "diabetes_bmi = diabetes[\"BMI\"]\n",
    "no_diabetes_bmi = no_diabetes[\"BMI\"]\n",
    "diabetes_variance = diabetes[\"BMI\"].var()\n",
    "no_diabetes_variance = no_diabetes[\"BMI\"].var()\n",
    "print(diabetes_variance,no_diabetes_variance)"
   ]
  },
  {
   "cell_type": "code",
   "execution_count": null,
   "metadata": {},
   "outputs": [],
   "source": [
    "f_stat = diabetes_variance / no_diabetes_variance\n",
    "df1 = len(diabetes) - 1 \n",
    "df2 = len(no_diabetes) - 1 \n",
    "print(f_stat,df1,df2)"
   ]
  },
  {
   "cell_type": "code",
   "execution_count": null,
   "metadata": {},
   "outputs": [],
   "source": [
    "from scipy.stats import f\n",
    "p_value_one_tail = 1 - f.cdf(f_stat, df1, df2)\n",
    "\n",
    "# For a two-tailed test\n",
    "p_value_two_tail = 2 * min(p_value_one_tail, 1 - p_value_one_tail)\n",
    "\n",
    "print(p_value_two_tail)\n",
    "print(\"\"\"\n",
    "This extremely small p-value suggests that the observed F-statistic is highly unlikely under the null hypothesis that the variances are equal.\n",
    "Conclusion: Reject the null hypothesis (H0) and conclude that the variances are significantly different at any conventional significance level (e.g., \n",
    "a=0.05.\n",
    "\"\"\")"
   ]
  },
  {
   "cell_type": "code",
   "execution_count": null,
   "metadata": {},
   "outputs": [],
   "source": [
    "from scipy.stats import ttest_ind\n",
    "\"\"\"\n",
    "So we do Welch's T-test because the variances are different. Indicated by the F-test on the variance.\n",
    "\"\"\"\n",
    "t_stat, p_value = ttest_ind(diabetes_bmi, no_diabetes_bmi, equal_var=False)\n",
    "print(f\"T-statistic: {t_stat}\")\n",
    "print(f\"P-value: {p_value}\")\n",
    "\n",
    "# Interpretation\n",
    "alpha = 0.025\n",
    "if p_value < alpha:\n",
    "    print(\"Reject the null hypothesis: The means are significantly different.\")\n",
    "else:\n",
    "    print(\"Fail to reject the null hypothesis: No significant difference in means.\")"
   ]
  },
  {
   "cell_type": "code",
   "execution_count": null,
   "metadata": {},
   "outputs": [],
   "source": [
    "\"\"\"\n",
    "Meaning of Rejecting \n",
    "H0: Rejecting means that there is sufficient statistical evidence to conclude that the number of people with diabetes varies with BMI. \n",
    "In other words:\n",
    "\n",
    "BMI is significantly associated with the prevalence of diabetes.\n",
    "\n",
    "This could imply that as BMI changes (e.g., increases or decreases), the number of people with diabetes also changes.\n",
    "Interpretation in Practical Terms:\n",
    "Causal Relationship:\n",
    "\n",
    "Rejecting H0\n",
    "Does not prove causation but suggests a strong association between BMI and diabetes.\n",
    "Further studies might be needed to explore causality.\n",
    "Public Health Implications:\n",
    "\n",
    "If the relationship is strong and significant, this finding could motivate interventions targeting BMI to control diabetes prevalence.\n",
    "\"\"\""
   ]
  },
  {
   "cell_type": "code",
   "execution_count": null,
   "metadata": {},
   "outputs": [],
   "source": [
    "\"\"\"Next Steps After Rejecting H0\n",
    "\n",
    "Quantify the Relationship:\n",
    "Use regression analysis to model the relationship between BMI and diabetes prevalence.\n",
    "Study Other Factors:\n",
    "Consider whether other factors (e.g., age, genetics, lifestyle) also influence the observed relationship.\n",
    "Policy Recommendations:\n",
    "Develop programs to manage BMI as a potential strategy to reduce diabetes prevalence.\n",
    "Would you like help interpreting specific data or running an analysis?\n",
    "\"\"\""
   ]
  },
  {
   "cell_type": "code",
   "execution_count": null,
   "metadata": {},
   "outputs": [],
   "source": [
    "import pandas as pd\n",
    "\n",
    "df = pd.read_csv(\"diabetes_012_health_indicators_BRFSS2015_py_cp.csv\")\n",
    "df_over_9 = df.query('Age > 9')\n",
    "df_under_9 = df.query('Age < 9')\n",
    "mean_over_9 = df_over_9[\"BMI\"].mean()\n",
    "mean_under_9 = df_under_9[\"BMI\"].mean()\n",
    "mean_difference = mean_under_9 - mean_over_9\n",
    "print(mean_difference,mean_under_9,mean_over_9)"
   ]
  }
 ],
 "metadata": {
  "kernelspec": {
   "display_name": ".venv",
   "language": "python",
   "name": "python3"
  },
  "language_info": {
   "codemirror_mode": {
    "name": "ipython",
    "version": 3
   },
   "file_extension": ".py",
   "mimetype": "text/x-python",
   "name": "python",
   "nbconvert_exporter": "python",
   "pygments_lexer": "ipython3",
   "version": "3.12.6"
  }
 },
 "nbformat": 4,
 "nbformat_minor": 2
}
