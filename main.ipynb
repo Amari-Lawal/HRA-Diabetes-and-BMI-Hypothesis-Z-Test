{
 "cells": [
  {
   "cell_type": "code",
   "execution_count": 33,
   "metadata": {},
   "outputs": [
    {
     "name": "stdout",
     "output_type": "stream",
     "text": [
      "48.509809514526246 39.2000378304744\n"
     ]
    }
   ],
   "source": [
    "import statistics\n",
    "import pandas as pd\n",
    "\n",
    "df = pd.read_csv(\"source_data/diabetes_012_health_indicators_BRFSS2015_py_cp.csv\")\n",
    "no_diabetes = df[df[\"Diabetes_012\"] == 0]\n",
    "diabetes = df[df[\"Diabetes_012\"] == 1]\n",
    "diabetes_bmi = diabetes[\"BMI\"]\n",
    "no_diabetes_bmi = no_diabetes[\"BMI\"]\n",
    "diabetes_variance = diabetes[\"BMI\"].var()\n",
    "no_diabetes_variance = no_diabetes[\"BMI\"].var()\n",
    "print(diabetes_variance,no_diabetes_variance)"
   ]
  },
  {
   "cell_type": "code",
   "execution_count": 34,
   "metadata": {},
   "outputs": [
    {
     "name": "stdout",
     "output_type": "stream",
     "text": [
      "1.237493946416918 4630 213702\n"
     ]
    }
   ],
   "source": [
    "f_stat = diabetes_variance / no_diabetes_variance\n",
    "df1 = len(diabetes) - 1 \n",
    "df2 = len(no_diabetes) - 1 \n",
    "print(f_stat,df1,df2)"
   ]
  },
  {
   "cell_type": "code",
   "execution_count": 35,
   "metadata": {},
   "outputs": [
    {
     "data": {
      "text/plain": [
       "'\\nThis extremely small p-value suggests that the observed F-statistic is highly unlikely under the null hypothesis that the variances are equal.\\nConclusion: Reject the null hypothesis (H0) and conclude that the variances are significantly different at any conventional significance level (e.g., \\na=0.05.\\n'"
      ]
     },
     "execution_count": 35,
     "metadata": {},
     "output_type": "execute_result"
    }
   ],
   "source": [
    "from scipy.stats import f\n",
    "p_value_one_tail = 1 - f.cdf(f_stat, df1, df2)\n",
    "\n",
    "# For a two-tailed test\n",
    "p_value_two_tail = 2 * min(p_value_one_tail, 1 - p_value_one_tail)\n",
    "\n",
    "p_value_two_tail\n",
    "\"\"\"\n",
    "This extremely small p-value suggests that the observed F-statistic is highly unlikely under the null hypothesis that the variances are equal.\n",
    "Conclusion: Reject the null hypothesis (H0) and conclude that the variances are significantly different at any conventional significance level (e.g., \n",
    "a=0.05.\n",
    "\"\"\""
   ]
  },
  {
   "cell_type": "code",
   "execution_count": 39,
   "metadata": {},
   "outputs": [
    {
     "name": "stdout",
     "output_type": "stream",
     "text": [
      "T-statistic: 28.883678555238966\n",
      "P-value: 2.896406023825981e-169\n",
      "Reject the null hypothesis: The means are significantly different.\n"
     ]
    }
   ],
   "source": [
    "from scipy.stats import ttest_ind\n",
    "\"\"\"\n",
    "So we do Welch's T-test because the variances are different. Indicated by the F-test on the variance.\n",
    "\"\"\"\n",
    "t_stat, p_value = ttest_ind(diabetes_bmi, no_diabetes_bmi, equal_var=False)\n",
    "print(f\"T-statistic: {t_stat}\")\n",
    "print(f\"P-value: {p_value}\")\n",
    "\n",
    "# Interpretation\n",
    "alpha = 0.025\n",
    "if p_value < alpha:\n",
    "    print(\"Reject the null hypothesis: The means are significantly different.\")\n",
    "else:\n",
    "    print(\"Fail to reject the null hypothesis: No significant difference in means.\")"
   ]
  },
  {
   "cell_type": "code",
   "execution_count": null,
   "metadata": {},
   "outputs": [],
   "source": [
    "\"\"\"\n",
    "Meaning of Rejecting \n",
    "H0: Rejecting means that there is sufficient statistical evidence to conclude that the number of people with diabetes varies with BMI. \n",
    "In other words:\n",
    "\n",
    "BMI is significantly associated with the prevalence of diabetes.\n",
    "\n",
    "This could imply that as BMI changes (e.g., increases or decreases), the number of people with diabetes also changes.\n",
    "Interpretation in Practical Terms:\n",
    "Causal Relationship:\n",
    "\n",
    "Rejecting H0\n",
    "Does not prove causation but suggests a strong association between BMI and diabetes.\n",
    "Further studies might be needed to explore causality.\n",
    "Public Health Implications:\n",
    "\n",
    "If the relationship is strong and significant, this finding could motivate interventions targeting BMI to control diabetes prevalence.\n",
    "\"\"\""
   ]
  },
  {
   "cell_type": "code",
   "execution_count": null,
   "metadata": {},
   "outputs": [],
   "source": [
    "\"\"\"Next Steps After Rejecting H0\n",
    "\n",
    "Quantify the Relationship:\n",
    "Use regression analysis to model the relationship between BMI and diabetes prevalence.\n",
    "Study Other Factors:\n",
    "Consider whether other factors (e.g., age, genetics, lifestyle) also influence the observed relationship.\n",
    "Policy Recommendations:\n",
    "Develop programs to manage BMI as a potential strategy to reduce diabetes prevalence.\n",
    "Would you like help interpreting specific data or running an analysis?\n",
    "\"\"\""
   ]
  },
  {
   "cell_type": "code",
   "execution_count": null,
   "metadata": {},
   "outputs": [],
   "source": [
    "import pandas as pd\n",
    "\n",
    "df = pd.read_csv(\"diabetes_012_health_indicators_BRFSS2015_py_cp.csv\")\n",
    "df_over_9 = df.query('Age > 9')\n",
    "df_under_9 = df.query('Age < 9')\n",
    "mean_over_9 = df_over_9[\"BMI\"].mean()\n",
    "mean_under_9 = df_under_9[\"BMI\"].mean()\n",
    "mean_difference = mean_under_9 - mean_over_9\n",
    "print(mean_difference,mean_under_9,mean_over_9)"
   ]
  }
 ],
 "metadata": {
  "kernelspec": {
   "display_name": "env",
   "language": "python",
   "name": "python3"
  },
  "language_info": {
   "codemirror_mode": {
    "name": "ipython",
    "version": 3
   },
   "file_extension": ".py",
   "mimetype": "text/x-python",
   "name": "python",
   "nbconvert_exporter": "python",
   "pygments_lexer": "ipython3",
   "version": "3.12.6"
  }
 },
 "nbformat": 4,
 "nbformat_minor": 2
}
